{
 "cells": [
  {
   "cell_type": "code",
   "execution_count": 1,
   "id": "green-beaver",
   "metadata": {
    "id": "green-beaver"
   },
   "outputs": [],
   "source": [
    "import sys\n",
    "import matplotlib.pyplot as plt\n",
    "import numpy as np\n",
    "from keras.datasets import cifar10\n",
    "from tensorflow.keras.models import Sequential\n",
    "from tensorflow.keras.layers import Conv2D, MaxPooling2D,Dropout, GlobalAveragePooling2D\n",
    "from tensorflow.keras.layers import Dense, Activation, Flatten, BatchNormalization\n",
    "from tensorflow.keras.utils import to_categorical\n",
    "from tensorflow.keras import optimizers\n",
    "from tensorflow.keras.optimizers import SGD, Adam\n",
    "from tensorflow.keras import regularizers\n",
    "from sklearn.model_selection import train_test_split\n",
    "import time"
   ]
  },
  {
   "cell_type": "code",
   "execution_count": 2,
   "id": "international-stupid",
   "metadata": {
    "id": "international-stupid"
   },
   "outputs": [],
   "source": [
    "# using unverfied ssl\n",
    "import ssl\n",
    "ssl._create_default_https_context = ssl._create_unverified_context"
   ]
  },
  {
   "cell_type": "code",
   "execution_count": 3,
   "id": "agricultural-bernard",
   "metadata": {
    "colab": {
     "base_uri": "https://localhost:8080/"
    },
    "id": "agricultural-bernard",
    "outputId": "3acf3406-b04d-4f93-9ac4-00ca8d58c7da"
   },
   "outputs": [
    {
     "name": "stdout",
     "output_type": "stream",
     "text": [
      "Downloading data from https://www.cs.toronto.edu/~kriz/cifar-10-python.tar.gz\n",
      "170500096/170498071 [==============================] - 2s 0us/step\n",
      "170508288/170498071 [==============================] - 2s 0us/step\n",
      "X_train, y_train : (50000, 32, 32, 3) (50000, 1)\n",
      "X_valid, y_valid: (5000, 32, 32, 3) (5000, 1)\n",
      "X_test, y_test: (5000, 32, 32, 3) (5000, 1)\n"
     ]
    }
   ],
   "source": [
    "# load train and test data\n",
    "(X_train, Y_train), (X_test, Y_test) = cifar10.load_data()\n",
    "\n",
    "X = np.concatenate((X_train,X_test))\n",
    "y = np.concatenate((Y_train,Y_test))\n",
    "\n",
    "\n",
    "\n",
    "X_train, X_test, y_train, y_test = train_test_split(X, y, test_size=10000, random_state=1234)\n",
    "X_valid, X_test, y_valid, y_test = train_test_split(X_test,y_test, test_size=0.5)\n",
    "\n",
    "print('X_train, y_train :', X_train.shape, y_train.shape)\n",
    "print('X_valid, y_valid:', X_valid.shape, y_valid.shape)\n",
    "print('X_test, y_test:', X_valid.shape, y_valid.shape)"
   ]
  },
  {
   "cell_type": "code",
   "execution_count": 4,
   "id": "illegal-disposition",
   "metadata": {
    "id": "illegal-disposition"
   },
   "outputs": [],
   "source": [
    "# Encoding the class values to 10 value binary vector\n",
    "y_train = to_categorical(y_train)\n",
    "y_test = to_categorical(y_test)\n",
    "y_valid = to_categorical(y_valid)\n",
    "\n",
    "# Converting the train values to float \n",
    "X_train_norm = X_train.astype('float32')\n",
    "X_valid_norm = X_valid.astype('float32')\n",
    "X_test_norm = X_test.astype('float32')\n",
    "# normalize the images with mean 0 and standard deviation of 1\n",
    "X_train_norm = X_train_norm / 255.0\n",
    "X_valid_norm = X_valid_norm / 255.0\n",
    "X_test_norm = X_test_norm / 255.0"
   ]
  },
  {
   "cell_type": "code",
   "execution_count": 5,
   "id": "loaded-development",
   "metadata": {
    "id": "loaded-development"
   },
   "outputs": [],
   "source": [
    "def plot_learning_curves(history):\n",
    "    # plot loss\n",
    "    plt.subplot(211)\n",
    "    plt.title('Minibatch Loss')\n",
    "    plt.plot(history.history['loss'], color='blue', label='train')\n",
    "    plt.plot(history.history['val_loss'], color='green', label='Validation')\n",
    "    plt.xlabel('Epoch')\n",
    "    plt.ylabel('Loss')\n",
    "    plt.legend()\n",
    "    plt.show()\n",
    "    \n",
    "    # plot accuracy\n",
    "    plt.subplot(212)\n",
    "    plt.title('Classification Accuracy')\n",
    "    plt.plot(history.history['accuracy'], color='blue', label='train')\n",
    "    plt.plot(history.history['val_accuracy'], color='green', label='validation')\n",
    "    plt.xlabel('Epoch')\n",
    "    plt.ylabel('Accuracy')\n",
    "    plt.legend()\n",
    "    plt.show()\n",
    "    \n",
    "    "
   ]
  },
  {
   "cell_type": "markdown",
   "id": "designing-indianapolis",
   "metadata": {
    "id": "designing-indianapolis"
   },
   "source": [
    "# Variant 3 - Adding dropout layers in cnn layers"
   ]
  },
  {
   "cell_type": "code",
   "execution_count": 6,
   "id": "perfect-fetish",
   "metadata": {
    "id": "perfect-fetish"
   },
   "outputs": [],
   "source": [
    "def train_vgg_model_dropout():\n",
    "    \n",
    "    model = Sequential()\n",
    "    \n",
    "    #conv block 1\n",
    "    model.add(Conv2D(64, (3, 3), activation='relu',   padding='same', input_shape=(32, 32, 3)))\n",
    "    model.add(BatchNormalization())\n",
    "    model.add(Conv2D(64, (3, 3), activation='relu',   padding='same'))\n",
    "    model.add(BatchNormalization())\n",
    "    model.add(MaxPooling2D((2, 2)))\n",
    "    model.add(Dropout(0.3))\n",
    "    \n",
    "    #conv block 2\n",
    "    model.add(Conv2D(128, (3, 3), activation='relu',   padding='same'))\n",
    "    model.add(BatchNormalization())\n",
    "    model.add(Conv2D(128, (3, 3), activation='relu',   padding='same'))\n",
    "    model.add(BatchNormalization())\n",
    "    model.add(MaxPooling2D((2, 2)))\n",
    "    model.add(Dropout(0.3))\n",
    "    \n",
    "    #conv block 3\n",
    "    model.add(Conv2D(256, (3, 3), activation='relu',   padding='same'))\n",
    "    model.add(BatchNormalization())\n",
    "    model.add(Conv2D(256, (3, 3), activation='relu',  padding='same'))\n",
    "    model.add(BatchNormalization())\n",
    "    model.add(MaxPooling2D((2, 2)))\n",
    "    model.add(Dropout(0.3))\n",
    "    \n",
    "    #Fully connected layers\n",
    "    model.add(Flatten())\n",
    "    model.add(Dense(512, activation='relu'))\n",
    "    model.add(BatchNormalization())\n",
    "    model.add(Dense(10, activation='softmax'))\n",
    "    \n",
    "    \n",
    "    \n",
    "    # compile model\n",
    "    #opt = SGD(lr=0.001, momentum=0.9)\n",
    "    opt = Adam(lr=0.001)\n",
    "    model.compile(optimizer=opt, loss='categorical_crossentropy', metrics=['accuracy'])\n",
    "    \n",
    "    print(model.summary())\n",
    "\n",
    "    \n",
    "    return model"
   ]
  },
  {
   "cell_type": "code",
   "execution_count": 7,
   "id": "secondary-individual",
   "metadata": {
    "colab": {
     "base_uri": "https://localhost:8080/",
     "height": 1000
    },
    "id": "secondary-individual",
    "outputId": "c584eb86-47cc-4f03-e9c2-2178f207c5a8"
   },
   "outputs": [
    {
     "name": "stderr",
     "output_type": "stream",
     "text": [
      "/usr/local/lib/python3.7/dist-packages/keras/optimizer_v2/optimizer_v2.py:356: UserWarning: The `lr` argument is deprecated, use `learning_rate` instead.\n",
      "  \"The `lr` argument is deprecated, use `learning_rate` instead.\")\n"
     ]
    },
    {
     "name": "stdout",
     "output_type": "stream",
     "text": [
      "Model: \"sequential\"\n",
      "_________________________________________________________________\n",
      "Layer (type)                 Output Shape              Param #   \n",
      "=================================================================\n",
      "conv2d (Conv2D)              (None, 32, 32, 64)        1792      \n",
      "_________________________________________________________________\n",
      "batch_normalization (BatchNo (None, 32, 32, 64)        256       \n",
      "_________________________________________________________________\n",
      "conv2d_1 (Conv2D)            (None, 32, 32, 64)        36928     \n",
      "_________________________________________________________________\n",
      "batch_normalization_1 (Batch (None, 32, 32, 64)        256       \n",
      "_________________________________________________________________\n",
      "max_pooling2d (MaxPooling2D) (None, 16, 16, 64)        0         \n",
      "_________________________________________________________________\n",
      "dropout (Dropout)            (None, 16, 16, 64)        0         \n",
      "_________________________________________________________________\n",
      "conv2d_2 (Conv2D)            (None, 16, 16, 128)       73856     \n",
      "_________________________________________________________________\n",
      "batch_normalization_2 (Batch (None, 16, 16, 128)       512       \n",
      "_________________________________________________________________\n",
      "conv2d_3 (Conv2D)            (None, 16, 16, 128)       147584    \n",
      "_________________________________________________________________\n",
      "batch_normalization_3 (Batch (None, 16, 16, 128)       512       \n",
      "_________________________________________________________________\n",
      "max_pooling2d_1 (MaxPooling2 (None, 8, 8, 128)         0         \n",
      "_________________________________________________________________\n",
      "dropout_1 (Dropout)          (None, 8, 8, 128)         0         \n",
      "_________________________________________________________________\n",
      "conv2d_4 (Conv2D)            (None, 8, 8, 256)         295168    \n",
      "_________________________________________________________________\n",
      "batch_normalization_4 (Batch (None, 8, 8, 256)         1024      \n",
      "_________________________________________________________________\n",
      "conv2d_5 (Conv2D)            (None, 8, 8, 256)         590080    \n",
      "_________________________________________________________________\n",
      "batch_normalization_5 (Batch (None, 8, 8, 256)         1024      \n",
      "_________________________________________________________________\n",
      "max_pooling2d_2 (MaxPooling2 (None, 4, 4, 256)         0         \n",
      "_________________________________________________________________\n",
      "dropout_2 (Dropout)          (None, 4, 4, 256)         0         \n",
      "_________________________________________________________________\n",
      "flatten (Flatten)            (None, 4096)              0         \n",
      "_________________________________________________________________\n",
      "dense (Dense)                (None, 512)               2097664   \n",
      "_________________________________________________________________\n",
      "batch_normalization_6 (Batch (None, 512)               2048      \n",
      "_________________________________________________________________\n",
      "dense_1 (Dense)              (None, 10)                5130      \n",
      "=================================================================\n",
      "Total params: 3,253,834\n",
      "Trainable params: 3,251,018\n",
      "Non-trainable params: 2,816\n",
      "_________________________________________________________________\n",
      "None\n",
      "Total Training Time: 9.50 min\n",
      "\n",
      "Test result: 85.340 and loss: 0.566\n",
      "Traing loss [1.304936408996582, 0.8263385891914368, 0.652886688709259, 0.5451136231422424, 0.4583083987236023, 0.3864176869392395, 0.32828059792518616, 0.26784229278564453, 0.23036953806877136, 0.20235873758792877, 0.17261308431625366, 0.15008752048015594, 0.1338232159614563, 0.12439658492803574, 0.11193535476922989, 0.10444717854261398, 0.09494893252849579, 0.08643106371164322, 0.08949203044176102, 0.08024907857179642] validation Loss [1.5594879388809204, 0.8403707146644592, 0.7336616516113281, 0.6244236826896667, 0.6904491782188416, 0.6142492294311523, 0.5605078339576721, 0.5920448899269104, 0.5841780304908752, 0.5697799324989319, 0.5364204049110413, 0.5656289458274841, 0.622688353061676, 0.6474235653877258, 0.575718343257904, 0.5828430652618408, 0.6168416142463684, 0.8397175669670105, 0.6575320363044739, 0.5982626676559448]\n",
      "Traing accuracy [0.541700005531311, 0.708299994468689, 0.7725800275802612, 0.8070799708366394, 0.8391000032424927, 0.8639600276947021, 0.8844799995422363, 0.9053599834442139, 0.9184399843215942, 0.9278799891471863, 0.938319981098175, 0.9472600221633911, 0.9531999826431274, 0.9564399719238281, 0.961139976978302, 0.9636399745941162, 0.9665600061416626, 0.9697200059890747, 0.9691600203514099, 0.9718199968338013] validation Accuracy [0.49079999327659607, 0.7124000191688538, 0.745199978351593, 0.7868000268936157, 0.7674000263214111, 0.7911999821662903, 0.8184000253677368, 0.805400013923645, 0.8240000009536743, 0.8348000049591064, 0.8446000218391418, 0.8374000191688538, 0.8295999765396118, 0.8299999833106995, 0.842199981212616, 0.8438000082969666, 0.8414000272750854, 0.8047999739646912, 0.8345999717712402, 0.8497999906539917]\n"
     ]
    },
    {
     "data": {
      "image/png": "[encoded data removed]",
      "text/plain": [
       "<Figure size 432x288 with 1 Axes>"
      ]
     },
     "metadata": {
      "needs_background": "light"
     },
     "output_type": "display_data"
    },
    {
     "data": {
      "image/png": "[encoded data removed]",
      "text/plain": [
       "<Figure size 432x288 with 1 Axes>"
      ]
     },
     "metadata": {
      "needs_background": "light"
     },
     "output_type": "display_data"
    }
   ],
   "source": [
    "start_time = time.time()\n",
    "\n",
    "train_model = train_vgg_model_dropout()\n",
    "history = train_model.fit(X_train_norm, y_train , epochs=20, batch_size=100 , validation_data=(X_valid_norm, y_valid), verbose=0)\n",
    "\n",
    "elapsed = (time.time() - start_time)/60\n",
    "print(f'Total Training Time: {elapsed:.2f} min')\n",
    "\n",
    "# evaluate model\n",
    "scores = train_model.evaluate(X_test_norm, y_test, verbose=0)\n",
    "print('\\nTest result: %.3f and loss: %.3f'  % (scores[1]*100,scores[0]))\n",
    "\n",
    "\n",
    "print('Traing loss', history.history['loss'],'validation Loss', history.history['val_loss'])\n",
    "print('Traing accuracy', history.history['accuracy'], 'validation Accuracy', history.history['val_accuracy'])\n",
    "\n",
    "# learning curves\n",
    "plot_learning_curves(history)"
   ]
  },
  {
   "cell_type": "markdown",
   "id": "undefined-police",
   "metadata": {
    "id": "undefined-police"
   },
   "source": [
    "# Added dropout only in dense layers"
   ]
  },
  {
   "cell_type": "code",
   "execution_count": 10,
   "id": "promising-slave",
   "metadata": {
    "id": "promising-slave"
   },
   "outputs": [],
   "source": [
    "def train_vgg_model_spatial_dropout():\n",
    "    \n",
    "    model = Sequential()\n",
    "    \n",
    "    #conv block 1\n",
    "    model.add(Conv2D(64, (3, 3), activation='relu',   padding='same', input_shape=(32, 32, 3)))\n",
    "    model.add(BatchNormalization())\n",
    "    model.add(Conv2D(64, (3, 3), activation='relu',   padding='same'))\n",
    "    model.add(BatchNormalization())\n",
    "    model.add(MaxPooling2D((2, 2)))\n",
    "    \n",
    "    \n",
    "    #conv block 2\n",
    "    model.add(Conv2D(128, (3, 3), activation='relu',   padding='same'))\n",
    "    model.add(BatchNormalization())\n",
    "    model.add(Conv2D(128, (3, 3), activation='relu',   padding='same'))\n",
    "    model.add(BatchNormalization())\n",
    "    model.add(MaxPooling2D((2, 2)))\n",
    "    \n",
    "    \n",
    "    #conv block 3\n",
    "    model.add(Conv2D(256, (3, 3), activation='relu',   padding='same'))\n",
    "    model.add(BatchNormalization())\n",
    "    model.add(Conv2D(256, (3, 3), activation='relu',  padding='same'))\n",
    "    model.add(BatchNormalization())\n",
    "    model.add(MaxPooling2D((2, 2)))\n",
    "    \n",
    "    \n",
    "    #Fully connected layers\n",
    "    model.add(Flatten())\n",
    "    model.add(Dense(512, activation='relu'))\n",
    "    model.add(BatchNormalization())\n",
    "    model.add(Dropout(0.3))\n",
    "    model.add(Dense(10, activation='softmax'))\n",
    "    \n",
    "    print(model.summary())\n",
    "    \n",
    "    # compile model\n",
    "    #opt = SGD(lr=0.001, momentum=0.9)\n",
    "    opt = Adam(lr=0.001)\n",
    "    model.compile(optimizer=opt, loss='categorical_crossentropy', metrics=['accuracy'])\n",
    "    \n",
    "    return model"
   ]
  },
  {
   "cell_type": "code",
   "execution_count": 11,
   "id": "synthetic-miniature",
   "metadata": {
    "colab": {
     "base_uri": "https://localhost:8080/",
     "height": 1000
    },
    "id": "synthetic-miniature",
    "outputId": "dbd71673-ee07-4930-9d7c-ccf03c8424d6"
   },
   "outputs": [
    {
     "name": "stdout",
     "output_type": "stream",
     "text": [
      "Model: \"sequential_2\"\n",
      "_________________________________________________________________\n",
      "Layer (type)                 Output Shape              Param #   \n",
      "=================================================================\n",
      "conv2d_7 (Conv2D)            (None, 32, 32, 64)        1792      \n",
      "_________________________________________________________________\n",
      "batch_normalization_8 (Batch (None, 32, 32, 64)        256       \n",
      "_________________________________________________________________\n",
      "conv2d_8 (Conv2D)            (None, 32, 32, 64)        36928     \n",
      "_________________________________________________________________\n",
      "batch_normalization_9 (Batch (None, 32, 32, 64)        256       \n",
      "_________________________________________________________________\n",
      "max_pooling2d_3 (MaxPooling2 (None, 16, 16, 64)        0         \n",
      "_________________________________________________________________\n",
      "conv2d_9 (Conv2D)            (None, 16, 16, 128)       73856     \n",
      "_________________________________________________________________\n",
      "batch_normalization_10 (Batc (None, 16, 16, 128)       512       \n",
      "_________________________________________________________________\n",
      "conv2d_10 (Conv2D)           (None, 16, 16, 128)       147584    \n",
      "_________________________________________________________________\n",
      "batch_normalization_11 (Batc (None, 16, 16, 128)       512       \n",
      "_________________________________________________________________\n",
      "max_pooling2d_4 (MaxPooling2 (None, 8, 8, 128)         0         \n",
      "_________________________________________________________________\n",
      "conv2d_11 (Conv2D)           (None, 8, 8, 256)         295168    \n",
      "_________________________________________________________________\n",
      "batch_normalization_12 (Batc (None, 8, 8, 256)         1024      \n",
      "_________________________________________________________________\n",
      "conv2d_12 (Conv2D)           (None, 8, 8, 256)         590080    \n",
      "_________________________________________________________________\n",
      "batch_normalization_13 (Batc (None, 8, 8, 256)         1024      \n",
      "_________________________________________________________________\n",
      "max_pooling2d_5 (MaxPooling2 (None, 4, 4, 256)         0         \n",
      "_________________________________________________________________\n",
      "flatten_1 (Flatten)          (None, 4096)              0         \n",
      "_________________________________________________________________\n",
      "dense_2 (Dense)              (None, 512)               2097664   \n",
      "_________________________________________________________________\n",
      "batch_normalization_14 (Batc (None, 512)               2048      \n",
      "_________________________________________________________________\n",
      "dropout_3 (Dropout)          (None, 512)               0         \n",
      "_________________________________________________________________\n",
      "dense_3 (Dense)              (None, 10)                5130      \n",
      "=================================================================\n",
      "Total params: 3,253,834\n",
      "Trainable params: 3,251,018\n",
      "Non-trainable params: 2,816\n",
      "_________________________________________________________________\n",
      "None\n"
     ]
    },
    {
     "name": "stderr",
     "output_type": "stream",
     "text": [
      "/usr/local/lib/python3.7/dist-packages/keras/optimizer_v2/optimizer_v2.py:356: UserWarning: The `lr` argument is deprecated, use `learning_rate` instead.\n",
      "  \"The `lr` argument is deprecated, use `learning_rate` instead.\")\n"
     ]
    },
    {
     "name": "stdout",
     "output_type": "stream",
     "text": [
      "Total Training Time: 9.40 min\n",
      "\n",
      "Test result: 82.140 loss: 0.853\n",
      "Traing loss [1.2812433242797852, 0.733973503112793, 0.5529574155807495, 0.4101422131061554, 0.3101174533367157, 0.23201413452625275, 0.15702389180660248, 0.12262233346700668, 0.1135876402258873, 0.0896085724234581, 0.07361353933811188, 0.06703046709299088, 0.07176250219345093, 0.05828969180583954, 0.047987982630729675, 0.05484902486205101, 0.052024099975824356, 0.04738646373152733, 0.03794527053833008, 0.0429748110473156] validation Loss [1.6024490594863892, 0.9480694532394409, 0.6757946014404297, 0.7672619819641113, 0.6085184812545776, 0.5918418765068054, 0.725410521030426, 0.7552763819694519, 0.8171269297599792, 0.7362881302833557, 0.7404516339302063, 0.8118593692779541, 0.9090242385864258, 0.7769098281860352, 0.8596264719963074, 0.9093481302261353, 0.8018739819526672, 0.9249060750007629, 0.8106024265289307, 0.8821814656257629]\n",
      "Traing accuracy [0.5646399855613708, 0.7441400289535522, 0.8093000054359436, 0.8571799993515015, 0.8918600082397461, 0.9194200038909912, 0.9451799988746643, 0.9578800201416016, 0.9602800011634827, 0.969219982624054, 0.9739400148391724, 0.9758599996566772, 0.9746599793434143, 0.9797800183296204, 0.9838600158691406, 0.98089998960495, 0.9821400046348572, 0.9829999804496765, 0.9871600270271301, 0.9856200218200684] validation Accuracy [0.477400004863739, 0.6905999779701233, 0.7667999863624573, 0.7648000121116638, 0.8037999868392944, 0.8208000063896179, 0.7924000024795532, 0.8159999847412109, 0.8004000186920166, 0.8234000205993652, 0.8205999732017517, 0.8136000037193298, 0.8090000152587891, 0.8338000178337097, 0.8223999738693237, 0.8185999989509583, 0.8371999859809875, 0.8198000192642212, 0.8393999934196472, 0.8241999745368958]\n"
     ]
    },
    {
     "data": {
      "image/png": "[encoded data removed]",
      "text/plain": [
       "<Figure size 432x288 with 1 Axes>"
      ]
     },
     "metadata": {
      "needs_background": "light"
     },
     "output_type": "display_data"
    },
    {
     "data": {
      "image/png": "[encoded data removed]",
      "text/plain": [
       "<Figure size 432x288 with 1 Axes>"
      ]
     },
     "metadata": {
      "needs_background": "light"
     },
     "output_type": "display_data"
    }
   ],
   "source": [
    "start_time = time.time()\n",
    "\n",
    "train_model = train_vgg_model_spatial_dropout()\n",
    "history = train_model.fit(X_train_norm, y_train , epochs=20, batch_size=100 , validation_data=(X_valid_norm, y_valid), verbose=0)\n",
    "\n",
    "\n",
    "\n",
    "elapsed = (time.time() - start_time)/60\n",
    "print(f'Total Training Time: {elapsed:.2f} min')\n",
    "\n",
    "# evaluate model\n",
    "scores = train_model.evaluate(X_test_norm, y_test, verbose=0)\n",
    "print('\\nTest result: %.3f loss: %.3f'  % (scores[1]*100,scores[0]))\n",
    "\n",
    "\n",
    "print('Traing loss', history.history['loss'],'validation Loss', history.history['val_loss'])\n",
    "print('Traing accuracy', history.history['accuracy'], 'validation Accuracy', history.history['val_accuracy'])\n",
    "\n",
    "# learning curves\n",
    "plot_learning_curves(history)"
   ]
  }
 ],
 "metadata": {
  "accelerator": "GPU",
  "colab": {
   "name": "Data255_HW2_RamyaSree_Variant3_MiniVGG.ipynb",
   "provenance": []
  },
  "kernelspec": {
   "display_name": "Python 3",
   "language": "python",
   "name": "python3"
  },
  "language_info": {
   "codemirror_mode": {
    "name": "ipython",
    "version": 3
   },
   "file_extension": ".py",
   "mimetype": "text/x-python",
   "name": "python",
   "nbconvert_exporter": "python",
   "pygments_lexer": "ipython3",
   "version": "3.9.1"
  }
 },
 "nbformat": 4,
 "nbformat_minor": 5
}
