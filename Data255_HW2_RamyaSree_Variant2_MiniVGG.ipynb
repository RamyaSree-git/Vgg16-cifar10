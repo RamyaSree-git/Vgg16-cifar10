{
  "nbformat": 4,
  "nbformat_minor": 5,
  "metadata": {
    "accelerator": "GPU",
    "colab": {
      "name": "Data255_HW2_RamyaSree_Variant2_MiniVGG.ipynb",
      "provenance": []
    },
    "kernelspec": {
      "display_name": "Python 3",
      "language": "python",
      "name": "python3"
    },
    "language_info": {
      "codemirror_mode": {
        "name": "ipython",
        "version": 3
      },
      "file_extension": ".py",
      "mimetype": "text/x-python",
      "name": "python",
      "nbconvert_exporter": "python",
      "pygments_lexer": "ipython3",
      "version": "3.9.1"
    }
  },
  "cells": [
    {
      "cell_type": "code",
      "metadata": {
        "id": "green-beaver"
      },
      "source": [
        "import sys\n",
        "import matplotlib.pyplot as plt\n",
        "import numpy as np\n",
        "from keras.datasets import cifar10\n",
        "from tensorflow.keras.models import Sequential\n",
        "from tensorflow.keras.layers import Conv2D, MaxPooling2D,Dropout, GlobalAveragePooling2D\n",
        "from tensorflow.keras.layers import Dense, Activation, Flatten, BatchNormalization\n",
        "from tensorflow.keras.utils import to_categorical\n",
        "from tensorflow.keras import optimizers\n",
        "from tensorflow.keras.optimizers import SGD, Adam\n",
        "from tensorflow.keras import regularizers\n",
        "from sklearn.model_selection import train_test_split\n",
        "import time"
      ],
      "id": "green-beaver",
      "execution_count": null,
      "outputs": []
    },
    {
      "cell_type": "code",
      "metadata": {
        "id": "international-stupid"
      },
      "source": [
        "# using unverfied ssl\n",
        "import ssl\n",
        "ssl._create_default_https_context = ssl._create_unverified_context"
      ],
      "id": "international-stupid",
      "execution_count": null,
      "outputs": []
    },
    {
      "cell_type": "code",
      "metadata": {
        "colab": {
          "base_uri": "https://localhost:8080/"
        },
        "id": "agricultural-bernard",
        "outputId": "8b30d320-4748-45a0-f5f5-57f58fe4d1de"
      },
      "source": [
        "# load train and test data\n",
        "(X_train, Y_train), (X_test, Y_test) = cifar10.load_data()\n",
        "\n",
        "X = np.concatenate((X_train,X_test))\n",
        "y = np.concatenate((Y_train,Y_test))\n",
        "\n",
        "\n",
        "\n",
        "X_train, X_test, y_train, y_test = train_test_split(X, y, test_size=10000, random_state=1234)\n",
        "X_valid, X_test, y_valid, y_test = train_test_split(X_test,y_test, test_size=0.5)\n",
        "\n",
        "print('X_train, y_train :', X_train.shape, y_train.shape)\n",
        "print('X_valid, y_valid:', X_valid.shape, y_valid.shape)\n",
        "print('X_test, y_test:', X_valid.shape, y_valid.shape)"
      ],
      "id": "agricultural-bernard",
      "execution_count": null,
      "outputs": [
        {
          "name": "stdout",
          "output_type": "stream",
          "text": [
            "Downloading data from https://www.cs.toronto.edu/~kriz/cifar-10-python.tar.gz\n",
            "170500096/170498071 [==============================] - 2s 0us/step\n",
            "170508288/170498071 [==============================] - 2s 0us/step\n",
            "X_train, y_train : (50000, 32, 32, 3) (50000, 1)\n",
            "X_valid, y_valid: (5000, 32, 32, 3) (5000, 1)\n",
            "X_test, y_test: (5000, 32, 32, 3) (5000, 1)\n"
          ]
        }
      ]
    },
    {
      "cell_type": "code",
      "metadata": {
        "id": "illegal-disposition"
      },
      "source": [
        "# Encoding the class values to 10 value binary vector\n",
        "y_train = to_categorical(y_train)\n",
        "y_test = to_categorical(y_test)\n",
        "y_valid = to_categorical(y_valid)\n",
        "\n",
        "# Converting the train values to float \n",
        "X_train_norm = X_train.astype('float32')\n",
        "X_valid_norm = X_valid.astype('float32')\n",
        "X_test_norm = X_test.astype('float32')\n",
        "# normalize the images with mean 0 and standard deviation of 1\n",
        "X_train_norm = X_train_norm / 255.0\n",
        "X_valid_norm = X_valid_norm / 255.0\n",
        "X_test_norm = X_test_norm / 255.0"
      ],
      "id": "illegal-disposition",
      "execution_count": null,
      "outputs": []
    },
    {
      "cell_type": "code",
      "metadata": {
        "id": "loaded-development"
      },
      "source": [
        "def plot_learning_curves(history):\n",
        "    # plot loss\n",
        "    plt.subplot(211)\n",
        "    plt.title('Minibatch Loss')\n",
        "    plt.plot(history.history['loss'], color='blue', label='train')\n",
        "    plt.plot(history.history['val_loss'], color='green', label='Validation')\n",
        "    plt.xlabel('Epoch')\n",
        "    plt.ylabel('Loss')\n",
        "    plt.legend()\n",
        "    plt.show()\n",
        "    \n",
        "    # plot accuracy\n",
        "    plt.subplot(212)\n",
        "    plt.title('Classification Accuracy')\n",
        "    plt.plot(history.history['accuracy'], color='blue', label='train')\n",
        "    plt.plot(history.history['val_accuracy'], color='green', label='validation')\n",
        "    plt.xlabel('Epoch')\n",
        "    plt.ylabel('Accuracy')\n",
        "    plt.legend()\n",
        "    plt.show()"
      ],
      "id": "loaded-development",
      "execution_count": null,
      "outputs": []
    },
    {
      "cell_type": "markdown",
      "metadata": {
        "id": "falling-binary"
      },
      "source": [
        "# variant 2 - Adding stride 2 by removing max pool layer"
      ],
      "id": "falling-binary"
    },
    {
      "cell_type": "code",
      "metadata": {
        "id": "apparent-software"
      },
      "source": [
        "def train_vgg_model_stride():\n",
        "    \n",
        "    \n",
        "    model = Sequential()\n",
        "    # conv block1\n",
        "    model.add(Conv2D(64, (3, 3), activation='relu', padding='same', input_shape=(32, 32, 3)))\n",
        "    model.add(BatchNormalization())\n",
        "    model.add(Conv2D(64, (3, 3), activation='relu', strides=(2, 2), padding='same'))\n",
        "    \n",
        "    \n",
        "    #conv block 2\n",
        "    model.add(Conv2D(128, (3, 3), activation='relu',  padding='same'))\n",
        "    model.add(BatchNormalization())\n",
        "    model.add(Conv2D(128, (3, 3), activation='relu',  strides=(2, 2), padding='same'))\n",
        "  \n",
        "    \n",
        "    #conv block 3\n",
        "    model.add(Conv2D(256, (3, 3), activation='relu', padding='same'))\n",
        "    model.add(BatchNormalization())\n",
        "    model.add(Conv2D(256, (3, 3), activation='relu', strides=(2, 2),  padding='same'))\n",
        "\n",
        "    \n",
        "    #Fully connected layers\n",
        "    model.add(Flatten())\n",
        "    model.add(Dense(512, activation='relu'))\n",
        "    model.add(BatchNormalization())\n",
        "    model.add(Dense(10, activation='softmax'))\n",
        "    \n",
        "    \n",
        "    # compile model\n",
        "    #opt = SGD(lr=0.001, momentum=0.9)\n",
        "    opt = Adam(lr=0.001)\n",
        "    model.compile(optimizer=opt, loss='categorical_crossentropy', metrics=['accuracy'])\n",
        "    \n",
        "    print(model.summary())\n",
        "    \n",
        "    return model"
      ],
      "id": "apparent-software",
      "execution_count": null,
      "outputs": []
    },
    {
      "cell_type": "code",
      "metadata": {
        "colab": {
          "background_save": true,
          "base_uri": "https://localhost:8080/"
        },
        "id": "greek-catering",
        "outputId": "c4307a6d-601f-4e83-d19c-39cb58c02db1"
      },
      "source": [
        "start_time = time.time()\n",
        "\n",
        "train_model = train_vgg_model_stride()\n",
        "history = train_model.fit(X_train_norm, y_train , epochs=20, batch_size=100 , validation_data=(X_valid_norm, y_valid), verbose=0)\n",
        "\n",
        "\n",
        "elapsed = (time.time() - start_time)/60\n",
        "print(f'Total Training Time: {elapsed:.2f} min')\n",
        "\n",
        "# evaluate model\n",
        "scores = train_model.evaluate(X_test_norm, y_test, verbose=0)\n",
        "print('\\nTest result: %.3f loss: %.3f'  % (scores[1]*100,scores[0]))\n",
        "\n",
        "\n",
        "print('Traing loss', history.history['loss'],'\\nvalidation Loss', history.history['val_loss'])\n",
        "print('Traing accuracy', history.history['accuracy'], '\\nvalidation Accuracy', history.history['val_accuracy'])\n",
        "\n",
        "\n",
        "# learning curves\n",
        "plot_learning_curves(history)"
      ],
      "id": "greek-catering",
      "execution_count": null,
      "outputs": [
        {
          "name": "stderr",
          "output_type": "stream",
          "text": [
            "/usr/local/lib/python3.7/dist-packages/keras/optimizer_v2/optimizer_v2.py:356: UserWarning: The `lr` argument is deprecated, use `learning_rate` instead.\n",
            "  \"The `lr` argument is deprecated, use `learning_rate` instead.\")\n"
          ]
        },
        {
          "name": "stdout",
          "output_type": "stream",
          "text": [
            "Model: \"sequential\"\n",
            "_________________________________________________________________\n",
            "Layer (type)                 Output Shape              Param #   \n",
            "=================================================================\n",
            "conv2d (Conv2D)              (None, 32, 32, 64)        1792      \n",
            "_________________________________________________________________\n",
            "batch_normalization (BatchNo (None, 32, 32, 64)        256       \n",
            "_________________________________________________________________\n",
            "conv2d_1 (Conv2D)            (None, 16, 16, 64)        36928     \n",
            "_________________________________________________________________\n",
            "conv2d_2 (Conv2D)            (None, 16, 16, 128)       73856     \n",
            "_________________________________________________________________\n",
            "batch_normalization_1 (Batch (None, 16, 16, 128)       512       \n",
            "_________________________________________________________________\n",
            "conv2d_3 (Conv2D)            (None, 8, 8, 128)         147584    \n",
            "_________________________________________________________________\n",
            "conv2d_4 (Conv2D)            (None, 8, 8, 256)         295168    \n",
            "_________________________________________________________________\n",
            "batch_normalization_2 (Batch (None, 8, 8, 256)         1024      \n",
            "_________________________________________________________________\n",
            "conv2d_5 (Conv2D)            (None, 4, 4, 256)         590080    \n",
            "_________________________________________________________________\n",
            "flatten (Flatten)            (None, 4096)              0         \n",
            "_________________________________________________________________\n",
            "dense (Dense)                (None, 512)               2097664   \n",
            "_________________________________________________________________\n",
            "batch_normalization_3 (Batch (None, 512)               2048      \n",
            "_________________________________________________________________\n",
            "dense_1 (Dense)              (None, 10)                5130      \n",
            "=================================================================\n",
            "Total params: 3,252,042\n",
            "Trainable params: 3,250,122\n",
            "Non-trainable params: 1,920\n",
            "_________________________________________________________________\n",
            "None\n",
            "Total Training Time: 8.34 min\n",
            "\n",
            "Test result: 78.240 loss: 1.212\n",
            "Traing loss [1.2879061698913574, 0.7887394428253174, 0.5912269353866577, 0.4466705918312073, 0.31830158829689026, 0.21193304657936096, 0.1532304584980011, 0.10343116521835327, 0.08601833879947662, 0.08240845799446106, 0.06621099263429642, 0.07611420750617981, 0.05680859461426735, 0.045514799654483795, 0.05071379244327545, 0.050864238291978836, 0.046140655875205994, 0.04299499839544296, 0.03237487003207207, 0.041907597333192825] \n",
            "validation Loss [1.6994080543518066, 1.0668785572052002, 0.7955674529075623, 0.7832589745521545, 0.9017364978790283, 0.8661789298057556, 0.9387927651405334, 0.9030998945236206, 1.0219107866287231, 1.0351711511611938, 1.0474467277526855, 1.0849443674087524, 1.1444454193115234, 1.2682862281799316, 1.1455144882202148, 1.2950963973999023, 1.148797869682312, 1.13413667678833, 1.2651634216308594, 1.2331480979919434]\n",
            "Traing accuracy [0.5432999730110168, 0.7213600277900696, 0.7925599813461304, 0.8441399931907654, 0.8867999911308289, 0.9262800216674805, 0.946340024471283, 0.963919997215271, 0.9698399901390076, 0.971560001373291, 0.9763799905776978, 0.9737600088119507, 0.9805200099945068, 0.9844800233840942, 0.9824600219726562, 0.981719970703125, 0.9842600226402283, 0.9853600263595581, 0.9890400171279907, 0.9852799773216248] \n",
            "validation Accuracy [0.44699999690055847, 0.646399974822998, 0.7210000157356262, 0.7483999729156494, 0.728600025177002, 0.7573999762535095, 0.756600022315979, 0.7797999978065491, 0.7576000094413757, 0.7706000208854675, 0.7680000066757202, 0.7459999918937683, 0.7613999843597412, 0.7573999762535095, 0.7770000100135803, 0.7552000284194946, 0.7788000106811523, 0.782800018787384, 0.770799994468689, 0.7698000073432922]\n"
          ]
        },
        {
          "data": {
            "image/png": "[encoded data removed]",
            "text/plain": [
              "<Figure size 432x288 with 1 Axes>"
            ]
          },
          "metadata": {},
          "output_type": "display_data"
        },
        {
          "data": {
            "image/png": "[encoded data removed]",
            "text/plain": [
              "<Figure size 432x288 with 1 Axes>"
            ]
          },
          "metadata": {},
          "output_type": "display_data"
        }
      ]
    }
  ]
}