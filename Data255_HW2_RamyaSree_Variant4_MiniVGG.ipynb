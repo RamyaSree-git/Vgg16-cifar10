{
  "nbformat": 4,
  "nbformat_minor": 5,
  "metadata": {
    "kernelspec": {
      "display_name": "Python 3",
      "language": "python",
      "name": "python3"
    },
    "language_info": {
      "codemirror_mode": {
        "name": "ipython",
        "version": 3
      },
      "file_extension": ".py",
      "mimetype": "text/x-python",
      "name": "python",
      "nbconvert_exporter": "python",
      "pygments_lexer": "ipython3",
      "version": "3.9.1"
    },
    "colab": {
      "name": "Data255_HW2_RamyaSree_Variant4_MiniVGG.ipynb",
      "provenance": [],
      "collapsed_sections": []
    },
    "accelerator": "GPU"
  },
  "cells": [
    {
      "cell_type": "code",
      "metadata": {
        "id": "green-beaver"
      },
      "source": [
        "import sys\n",
        "import matplotlib.pyplot as plt\n",
        "import numpy as np\n",
        "from keras.datasets import cifar10\n",
        "from tensorflow.keras.models import Sequential\n",
        "from tensorflow.keras.layers import Conv2D, MaxPooling2D,Dropout, GlobalAveragePooling2D\n",
        "from tensorflow.keras.layers import Dense, Activation, Flatten, BatchNormalization\n",
        "from tensorflow.keras.utils import to_categorical\n",
        "from tensorflow.keras import optimizers\n",
        "from tensorflow.keras.optimizers import SGD, Adam\n",
        "from tensorflow.keras import regularizers\n",
        "from sklearn.model_selection import train_test_split\n",
        "import time"
      ],
      "id": "green-beaver",
      "execution_count": 8,
      "outputs": []
    },
    {
      "cell_type": "code",
      "metadata": {
        "id": "international-stupid"
      },
      "source": [
        "# using unverfied ssl\n",
        "import ssl\n",
        "ssl._create_default_https_context = ssl._create_unverified_context"
      ],
      "id": "international-stupid",
      "execution_count": 9,
      "outputs": []
    },
    {
      "cell_type": "code",
      "metadata": {
        "colab": {
          "base_uri": "https://localhost:8080/"
        },
        "id": "agricultural-bernard",
        "outputId": "277e26a8-f065-43e9-8ad4-df475e785b56"
      },
      "source": [
        "# load train and test data\n",
        "(X_train, Y_train), (X_test, Y_test) = cifar10.load_data()\n",
        "\n",
        "X = np.concatenate((X_train,X_test))\n",
        "y = np.concatenate((Y_train,Y_test))\n",
        "\n",
        "\n",
        "\n",
        "X_train, X_test, y_train, y_test = train_test_split(X, y, test_size=10000, random_state=1234)\n",
        "X_valid, X_test, y_valid, y_test = train_test_split(X_test,y_test, test_size=0.5)\n",
        "\n",
        "print('X_train, y_train :', X_train.shape, y_train.shape)\n",
        "print('X_valid, y_valid:', X_valid.shape, y_valid.shape)\n",
        "print('X_test, y_test:', X_valid.shape, y_valid.shape)"
      ],
      "id": "agricultural-bernard",
      "execution_count": 10,
      "outputs": [
        {
          "output_type": "stream",
          "name": "stdout",
          "text": [
            "X_train, y_train : (50000, 32, 32, 3) (50000, 1)\n",
            "X_valid, y_valid: (5000, 32, 32, 3) (5000, 1)\n",
            "X_test, y_test: (5000, 32, 32, 3) (5000, 1)\n"
          ]
        }
      ]
    },
    {
      "cell_type": "code",
      "metadata": {
        "id": "illegal-disposition"
      },
      "source": [
        "# Encoding the class values to 10 value binary vector\n",
        "y_train = to_categorical(y_train)\n",
        "y_test = to_categorical(y_test)\n",
        "y_valid = to_categorical(y_valid)\n",
        "\n",
        "# Converting the train values to float \n",
        "X_train_norm = X_train.astype('float32')\n",
        "X_valid_norm = X_valid.astype('float32')\n",
        "X_test_norm = X_test.astype('float32')\n",
        "# normalize the images with mean 0 and standard deviation of 1\n",
        "X_train_norm = X_train_norm / 255.0\n",
        "X_valid_norm = X_valid_norm / 255.0\n",
        "X_test_norm = X_test_norm / 255.0"
      ],
      "id": "illegal-disposition",
      "execution_count": 11,
      "outputs": []
    },
    {
      "cell_type": "code",
      "metadata": {
        "id": "loaded-development"
      },
      "source": [
        "def plot_learning_curves(history):\n",
        "    # plot loss\n",
        "    plt.subplot(211)\n",
        "    plt.title('Minibatch Loss')\n",
        "    plt.plot(history.history['loss'], color='blue', label='train')\n",
        "    plt.plot(history.history['val_loss'], color='green', label='Validation')\n",
        "    plt.xlabel('Epoch')\n",
        "    plt.ylabel('Loss')\n",
        "    plt.legend()\n",
        "    plt.show()\n",
        "    \n",
        "    # plot accuracy\n",
        "    plt.subplot(212)\n",
        "    plt.title('Classification Accuracy')\n",
        "    plt.plot(history.history['accuracy'], color='blue', label='train')\n",
        "    plt.plot(history.history['val_accuracy'], color='green', label='validation')\n",
        "    plt.xlabel('Epoch')\n",
        "    plt.ylabel('Accuracy')\n",
        "    plt.legend()\n",
        "    plt.show()"
      ],
      "id": "loaded-development",
      "execution_count": 12,
      "outputs": []
    },
    {
      "cell_type": "markdown",
      "metadata": {
        "id": "champion-buffer"
      },
      "source": [
        "# variant 4 - Having only the convolutional layers with out dense layers"
      ],
      "id": "champion-buffer"
    },
    {
      "cell_type": "code",
      "metadata": {
        "id": "conscious-upset"
      },
      "source": [
        "from tensorflow.keras.layers import  GlobalAveragePooling2D\n",
        "\n",
        "def train_vgg_model_only_cnn():\n",
        "    \n",
        "    model = Sequential()\n",
        "    \n",
        "    #conv block 1\n",
        "    model.add(Conv2D(64, (3, 3), activation='relu',   padding='same', input_shape=(32, 32, 3)))\n",
        "    model.add(BatchNormalization())\n",
        "    model.add(Conv2D(64, (3, 3), activation='relu',   padding='same'))\n",
        "    model.add(BatchNormalization())\n",
        "    model.add(MaxPooling2D((2, 2)))\n",
        "        \n",
        "    #conv block 2\n",
        "    model.add(Conv2D(128, (3, 3), activation='relu',   padding='same'))\n",
        "    model.add(BatchNormalization())\n",
        "    model.add(Conv2D(128, (3, 3), activation='relu', padding='same'))\n",
        "    model.add(BatchNormalization())\n",
        "    model.add(MaxPooling2D((2, 2)))\n",
        "        \n",
        "    #conv block 3\n",
        "    model.add(Conv2D(256, (3, 3), activation='relu',   padding='same'))\n",
        "    model.add(BatchNormalization())\n",
        "    model.add(Conv2D(256, (3, 3), activation='relu',   padding='same'))\n",
        "    model.add(BatchNormalization())\n",
        "      \n",
        "    # conv block 4\n",
        "    model.add(Conv2D(128, (1, 1), activation='relu',  padding='same'))\n",
        "    model.add(Conv2D(10, (1, 1),   padding='same'))\n",
        "    model.add(GlobalAveragePooling2D())\n",
        "    model.add(Dense(10, activation='softmax'))\n",
        "    \n",
        "\n",
        "    # compile model\n",
        "    #opt = SGD(lr=0.001, momentum=0.9)\n",
        "    opt = Adam(lr=0.001)\n",
        "    model.compile(optimizer=opt, loss='categorical_crossentropy', metrics=['accuracy'])\n",
        "    \n",
        "    print(model.summary())\n",
        "    \n",
        "    return model"
      ],
      "id": "conscious-upset",
      "execution_count": 13,
      "outputs": []
    },
    {
      "cell_type": "code",
      "metadata": {
        "colab": {
          "base_uri": "https://localhost:8080/",
          "height": 1000
        },
        "id": "fourth-destruction",
        "outputId": "25ccb943-b24f-4929-b2b9-eea3bfe82047"
      },
      "source": [
        "start_time = time.time()\n",
        "\n",
        "train_model = train_vgg_model_only_cnn()\n",
        "history = train_model.fit(X_train_norm, y_train , epochs=20, batch_size=100 , validation_data=(X_valid_norm, y_valid), verbose=0)\n",
        "\n",
        "elapsed = (time.time() - start_time)/60\n",
        "print(f'Total Training Time: {elapsed:.2f} min')\n",
        "\n",
        "# evaluate model\n",
        "scores = train_model.evaluate(X_test_norm, y_test, verbose=0)\n",
        "print('\\nTest result: %.3f loss: %.3f'  % (scores[1]*100,scores[0]))\n",
        "\n",
        "print('Traing loss', history.history['loss'],'\\nvalidation Loss', history.history['val_loss'])\n",
        "print('Traing accuracy', history.history['accuracy'], '\\nvalidation Accuracy', history.history['val_accuracy'])\n",
        "\n",
        "# learning curves\n",
        "plot_learning_curves(history)"
      ],
      "id": "fourth-destruction",
      "execution_count": 14,
      "outputs": [
        {
          "output_type": "stream",
          "name": "stderr",
          "text": [
            "/usr/local/lib/python3.7/dist-packages/keras/optimizer_v2/optimizer_v2.py:356: UserWarning: The `lr` argument is deprecated, use `learning_rate` instead.\n",
            "  \"The `lr` argument is deprecated, use `learning_rate` instead.\")\n"
          ]
        },
        {
          "output_type": "stream",
          "name": "stdout",
          "text": [
            "Model: \"sequential_1\"\n",
            "_________________________________________________________________\n",
            "Layer (type)                 Output Shape              Param #   \n",
            "=================================================================\n",
            "conv2d_8 (Conv2D)            (None, 32, 32, 64)        1792      \n",
            "_________________________________________________________________\n",
            "batch_normalization_7 (Batch (None, 32, 32, 64)        256       \n",
            "_________________________________________________________________\n",
            "conv2d_9 (Conv2D)            (None, 32, 32, 64)        36928     \n",
            "_________________________________________________________________\n",
            "batch_normalization_8 (Batch (None, 32, 32, 64)        256       \n",
            "_________________________________________________________________\n",
            "max_pooling2d_2 (MaxPooling2 (None, 16, 16, 64)        0         \n",
            "_________________________________________________________________\n",
            "conv2d_10 (Conv2D)           (None, 16, 16, 128)       73856     \n",
            "_________________________________________________________________\n",
            "batch_normalization_9 (Batch (None, 16, 16, 128)       512       \n",
            "_________________________________________________________________\n",
            "conv2d_11 (Conv2D)           (None, 16, 16, 128)       147584    \n",
            "_________________________________________________________________\n",
            "batch_normalization_10 (Batc (None, 16, 16, 128)       512       \n",
            "_________________________________________________________________\n",
            "max_pooling2d_3 (MaxPooling2 (None, 8, 8, 128)         0         \n",
            "_________________________________________________________________\n",
            "conv2d_12 (Conv2D)           (None, 8, 8, 256)         295168    \n",
            "_________________________________________________________________\n",
            "batch_normalization_11 (Batc (None, 8, 8, 256)         1024      \n",
            "_________________________________________________________________\n",
            "conv2d_13 (Conv2D)           (None, 8, 8, 256)         590080    \n",
            "_________________________________________________________________\n",
            "batch_normalization_12 (Batc (None, 8, 8, 256)         1024      \n",
            "_________________________________________________________________\n",
            "conv2d_14 (Conv2D)           (None, 8, 8, 128)         32896     \n",
            "_________________________________________________________________\n",
            "conv2d_15 (Conv2D)           (None, 8, 8, 10)          1290      \n",
            "_________________________________________________________________\n",
            "global_average_pooling2d_1 ( (None, 10)                0         \n",
            "_________________________________________________________________\n",
            "dense_1 (Dense)              (None, 10)                110       \n",
            "=================================================================\n",
            "Total params: 1,183,288\n",
            "Trainable params: 1,181,496\n",
            "Non-trainable params: 1,792\n",
            "_________________________________________________________________\n",
            "None\n",
            "Total Training Time: 8.40 min\n",
            "\n",
            "Test result: 82.420 loss: 0.889\n",
            "Traing loss [1.1426117420196533, 0.679179847240448, 0.5040854215621948, 0.39134401082992554, 0.2950131297111511, 0.22128117084503174, 0.16640149056911469, 0.1195652037858963, 0.10862528532743454, 0.07717014849185944, 0.07355837523937225, 0.0661453828215599, 0.05801239237189293, 0.05680765584111214, 0.049439623951911926, 0.0428725965321064, 0.04405954107642174, 0.037868402898311615, 0.042213622480630875, 0.03699186071753502] \n",
            "validation Loss [1.6828466653823853, 0.8460756540298462, 0.7124522924423218, 0.666019082069397, 0.7191725373268127, 0.6234142780303955, 0.6568214893341064, 0.7936040759086609, 0.7606801986694336, 1.1173734664916992, 0.8701801896095276, 0.7954636812210083, 0.9563095569610596, 0.8212390542030334, 0.7588858008384705, 0.8342853784561157, 0.7756474018096924, 0.985967755317688, 0.8430938720703125, 0.939699113368988]\n",
            "Traing accuracy [0.593500018119812, 0.7630199790000916, 0.8246200084686279, 0.8651400208473206, 0.8979200124740601, 0.9216799736022949, 0.9413999915122986, 0.9585599899291992, 0.9620000123977661, 0.9727200269699097, 0.9744600057601929, 0.9773799777030945, 0.9800000190734863, 0.9801599979400635, 0.983460009098053, 0.9858800172805786, 0.9850199818611145, 0.9877600073814392, 0.9852399826049805, 0.9874200224876404] \n",
            "validation Accuracy [0.4339999854564667, 0.7098000049591064, 0.7567999958992004, 0.7878000140190125, 0.7702000141143799, 0.7960000038146973, 0.8023999929428101, 0.795199990272522, 0.7986000180244446, 0.7662000060081482, 0.7979999780654907, 0.8288000226020813, 0.7937999963760376, 0.8234000205993652, 0.8407999873161316, 0.8100000023841858, 0.8253999948501587, 0.8149999976158142, 0.8334000110626221, 0.8191999793052673]\n"
          ]
        },
        {
          "output_type": "display_data",
          "data": {
            "image/png": "[encoded data removed]",
            "text/plain": [
              "<Figure size 432x288 with 1 Axes>"
            ]
          },
          "metadata": {
            "needs_background": "light"
          }
        },
        {
          "output_type": "display_data",
          "data": {
            "image/png": "[encoded data removed]",
            "text/plain": [
              "<Figure size 432x288 with 1 Axes>"
            ]
          },
          "metadata": {
            "needs_background": "light"
          }
        }
      ]
    },
    {
      "cell_type": "code",
      "metadata": {
        "id": "typical-dodge"
      },
      "source": [
        ""
      ],
      "id": "typical-dodge",
      "execution_count": 14,
      "outputs": []
    }
  ]
}