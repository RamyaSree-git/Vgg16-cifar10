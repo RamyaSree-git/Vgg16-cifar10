{
 "cells": [
  {
   "cell_type": "code",
   "execution_count": null,
   "id": "green-beaver",
   "metadata": {
    "id": "green-beaver"
   },
   "outputs": [],
   "source": [
    "import sys\n",
    "import matplotlib.pyplot as plt\n",
    "import numpy as np\n",
    "from keras.datasets import cifar10\n",
    "from tensorflow.keras.models import Sequential\n",
    "from tensorflow.keras.layers import Conv2D, MaxPooling2D,Dropout, GlobalAveragePooling2D\n",
    "from tensorflow.keras.layers import Dense, Activation, Flatten, BatchNormalization\n",
    "from tensorflow.keras.utils import to_categorical\n",
    "from tensorflow.keras import optimizers\n",
    "from tensorflow.keras.optimizers import SGD, Adam\n",
    "from tensorflow.keras import regularizers\n",
    "from sklearn.model_selection import train_test_split\n",
    "import time"
   ]
  },
  {
   "cell_type": "code",
   "execution_count": null,
   "id": "international-stupid",
   "metadata": {
    "id": "international-stupid"
   },
   "outputs": [],
   "source": [
    "# using unverfied ssl\n",
    "import ssl\n",
    "ssl._create_default_https_context = ssl._create_unverified_context"
   ]
  },
  {
   "cell_type": "code",
   "execution_count": null,
   "id": "agricultural-bernard",
   "metadata": {
    "colab": {
     "base_uri": "https://localhost:8080/"
    },
    "id": "agricultural-bernard",
    "outputId": "f132bea9-77ef-4290-c69c-f2f9e579d106"
   },
   "outputs": [
    {
     "name": "stdout",
     "output_type": "stream",
     "text": [
      "Downloading data from https://www.cs.toronto.edu/~kriz/cifar-10-python.tar.gz\n",
      "170500096/170498071 [==============================] - 2s 0us/step\n",
      "170508288/170498071 [==============================] - 2s 0us/step\n",
      "X_train, y_train : (50000, 32, 32, 3) (50000, 1)\n",
      "X_valid, y_valid: (5000, 32, 32, 3) (5000, 1)\n",
      "X_test, y_test: (5000, 32, 32, 3) (5000, 1)\n"
     ]
    }
   ],
   "source": [
    "# load train and test data\n",
    "(X_train, Y_train), (X_test, Y_test) = cifar10.load_data()\n",
    "\n",
    "X = np.concatenate((X_train,X_test))\n",
    "y = np.concatenate((Y_train,Y_test))\n",
    "\n",
    "\n",
    "\n",
    "X_train, X_test, y_train, y_test = train_test_split(X, y, test_size=10000, random_state=1234)\n",
    "X_valid, X_test, y_valid, y_test = train_test_split(X_test,y_test, test_size=0.5)\n",
    "\n",
    "print('X_train, y_train :', X_train.shape, y_train.shape)\n",
    "print('X_valid, y_valid:', X_valid.shape, y_valid.shape)\n",
    "print('X_test, y_test:', X_valid.shape, y_valid.shape)"
   ]
  },
  {
   "cell_type": "code",
   "execution_count": null,
   "id": "illegal-disposition",
   "metadata": {
    "id": "illegal-disposition"
   },
   "outputs": [],
   "source": [
    "# Encoding the class values to 10 value binary vector\n",
    "y_train = to_categorical(y_train)\n",
    "y_test = to_categorical(y_test)\n",
    "y_valid = to_categorical(y_valid)\n",
    "\n",
    "# Converting the train values to float \n",
    "X_train_norm = X_train.astype('float32')\n",
    "X_valid_norm = X_valid.astype('float32')\n",
    "X_test_norm = X_test.astype('float32')\n",
    "# normalize the images with mean 0 and standard deviation of 1\n",
    "X_train_norm = X_train_norm / 255.0\n",
    "X_valid_norm = X_valid_norm / 255.0\n",
    "X_test_norm = X_test_norm / 255.0"
   ]
  },
  {
   "cell_type": "code",
   "execution_count": null,
   "id": "loaded-development",
   "metadata": {
    "id": "loaded-development"
   },
   "outputs": [],
   "source": [
    "def plot_learning_curves(history):\n",
    "    # plot loss\n",
    "    plt.subplot(211)\n",
    "    plt.title('Minibatch Loss')\n",
    "    plt.plot(history.history['loss'], color='blue', label='train')\n",
    "    plt.plot(history.history['val_loss'], color='green', label='Validation')\n",
    "    plt.xlabel('Epoch')\n",
    "    plt.ylabel('Loss')\n",
    "    plt.legend()\n",
    "    plt.show()\n",
    "    \n",
    "    # plot accuracy\n",
    "    plt.subplot(212)\n",
    "    plt.title('Classification Accuracy')\n",
    "    plt.plot(history.history['accuracy'], color='blue', label='train')\n",
    "    plt.plot(history.history['val_accuracy'], color='green', label='validation')\n",
    "    plt.xlabel('Epoch')\n",
    "    plt.ylabel('Accuracy')\n",
    "    plt.legend()\n",
    "    plt.show()"
   ]
  },
  {
   "cell_type": "markdown",
   "id": "beautiful-broad",
   "metadata": {
    "id": "beautiful-broad"
   },
   "source": [
    "# Variant 1 with SELU"
   ]
  },
  {
   "cell_type": "code",
   "execution_count": null,
   "id": "angry-agreement",
   "metadata": {
    "id": "angry-agreement"
   },
   "outputs": [],
   "source": [
    "def train_vgg_model_selu():\n",
    "    \n",
    "    model = Sequential()\n",
    "    \n",
    "    #conv block1\n",
    "    model.add(Conv2D(64, (3, 3), activation='selu',  padding='same', input_shape=(32, 32, 3)))\n",
    "    model.add(BatchNormalization())\n",
    "    model.add(Conv2D(64, (3, 3), activation='selu',  padding='same'))\n",
    "    model.add(BatchNormalization())\n",
    "    model.add(MaxPooling2D((2, 2)))\n",
    "    \n",
    "    #conv block2\n",
    "    model.add(Conv2D(128, (3, 3), activation='selu',  padding='same'))\n",
    "    model.add(BatchNormalization())\n",
    "    model.add(Conv2D(128, (3, 3), activation='selu',  padding='same'))\n",
    "    model.add(BatchNormalization())\n",
    "    model.add(MaxPooling2D((2, 2)))\n",
    "    \n",
    "    #conv block3\n",
    "    model.add(Conv2D(256, (3, 3), activation='selu',  padding='same'))\n",
    "    model.add(BatchNormalization())\n",
    "    model.add(Conv2D(256, (3, 3), activation='selu',  padding='same'))\n",
    "    model.add(BatchNormalization())\n",
    "    model.add(MaxPooling2D((2, 2)))\n",
    "    \n",
    "    #Fully connected layers\n",
    "    model.add(Flatten())\n",
    "    model.add(Dense(512, activation='selu'))\n",
    "    model.add(BatchNormalization())\n",
    "    model.add(Dense(10, activation='softmax'))\n",
    "    \n",
    "    # compile model\n",
    "    #opt = SGD(lr=0.001, momentum=0.9)\n",
    "    opt = Adam(lr=0.001)\n",
    "    model.compile(optimizer=opt, loss='categorical_crossentropy', metrics=['accuracy'])\n",
    "    \n",
    "    print(model.summary())\n",
    "    \n",
    "    return model"
   ]
  },
  {
   "cell_type": "code",
   "execution_count": null,
   "id": "hazardous-botswana",
   "metadata": {
    "colab": {
     "background_save": true,
     "base_uri": "https://localhost:8080/"
    },
    "id": "hazardous-botswana",
    "outputId": "353c1baa-2c3b-4563-c373-3cc4287f8f45"
   },
   "outputs": [
    {
     "name": "stderr",
     "output_type": "stream",
     "text": [
      "/usr/local/lib/python3.7/dist-packages/keras/optimizer_v2/optimizer_v2.py:356: UserWarning: The `lr` argument is deprecated, use `learning_rate` instead.\n",
      "  \"The `lr` argument is deprecated, use `learning_rate` instead.\")\n"
     ]
    },
    {
     "name": "stdout",
     "output_type": "stream",
     "text": [
      "Model: \"sequential\"\n",
      "_________________________________________________________________\n",
      "Layer (type)                 Output Shape              Param #   \n",
      "=================================================================\n",
      "conv2d (Conv2D)              (None, 32, 32, 64)        1792      \n",
      "_________________________________________________________________\n",
      "batch_normalization (BatchNo (None, 32, 32, 64)        256       \n",
      "_________________________________________________________________\n",
      "conv2d_1 (Conv2D)            (None, 32, 32, 64)        36928     \n",
      "_________________________________________________________________\n",
      "batch_normalization_1 (Batch (None, 32, 32, 64)        256       \n",
      "_________________________________________________________________\n",
      "max_pooling2d (MaxPooling2D) (None, 16, 16, 64)        0         \n",
      "_________________________________________________________________\n",
      "conv2d_2 (Conv2D)            (None, 16, 16, 128)       73856     \n",
      "_________________________________________________________________\n",
      "batch_normalization_2 (Batch (None, 16, 16, 128)       512       \n",
      "_________________________________________________________________\n",
      "conv2d_3 (Conv2D)            (None, 16, 16, 128)       147584    \n",
      "_________________________________________________________________\n",
      "batch_normalization_3 (Batch (None, 16, 16, 128)       512       \n",
      "_________________________________________________________________\n",
      "max_pooling2d_1 (MaxPooling2 (None, 8, 8, 128)         0         \n",
      "_________________________________________________________________\n",
      "conv2d_4 (Conv2D)            (None, 8, 8, 256)         295168    \n",
      "_________________________________________________________________\n",
      "batch_normalization_4 (Batch (None, 8, 8, 256)         1024      \n",
      "_________________________________________________________________\n",
      "conv2d_5 (Conv2D)            (None, 8, 8, 256)         590080    \n",
      "_________________________________________________________________\n",
      "batch_normalization_5 (Batch (None, 8, 8, 256)         1024      \n",
      "_________________________________________________________________\n",
      "max_pooling2d_2 (MaxPooling2 (None, 4, 4, 256)         0         \n",
      "_________________________________________________________________\n",
      "flatten (Flatten)            (None, 4096)              0         \n",
      "_________________________________________________________________\n",
      "dense (Dense)                (None, 512)               2097664   \n",
      "_________________________________________________________________\n",
      "batch_normalization_6 (Batch (None, 512)               2048      \n",
      "_________________________________________________________________\n",
      "dense_1 (Dense)              (None, 10)                5130      \n",
      "=================================================================\n",
      "Total params: 3,253,834\n",
      "Trainable params: 3,251,018\n",
      "Non-trainable params: 2,816\n",
      "_________________________________________________________________\n",
      "None\n",
      "Total Training Time: 9.95 min\n",
      "\n",
      "Test result: 81.780 loss: 1.055\n",
      "Traing loss [1.2353622913360596, 0.7507825493812561, 0.5662662386894226, 0.4258159101009369, 0.2889898419380188, 0.1770639270544052, 0.11604444682598114, 0.07506472617387772, 0.06890201568603516, 0.06121889129281044, 0.05570552870631218, 0.056397438049316406, 0.04607700556516647, 0.03204499930143356, 0.04301343113183975, 0.039223216474056244, 0.03529839962720871, 0.030514340847730637, 0.025785988196730614, 0.029705720022320747] \n",
      "validation Loss [1.077911615371704, 0.7965561747550964, 0.7917114496231079, 0.7681624293327332, 0.6245507597923279, 0.6984557509422302, 0.7408165335655212, 0.8855463862419128, 0.8246417045593262, 0.7424895167350769, 0.8477782011032104, 0.8063138723373413, 0.8541463613510132, 0.8568720817565918, 0.9453445076942444, 0.9507544636726379, 0.8960217833518982, 0.8916628956794739, 0.9508387446403503, 0.9408608675003052]\n",
      "Traing accuracy [0.5751399993896484, 0.7397199869155884, 0.8021600246429443, 0.8522599935531616, 0.9001200199127197, 0.9394000172615051, 0.9598600268363953, 0.9753199815750122, 0.9762399792671204, 0.9786199927330017, 0.9811000227928162, 0.980679988861084, 0.9838200211524963, 0.9893199801445007, 0.9845200181007385, 0.986299991607666, 0.9876400232315063, 0.9895399808883667, 0.9909200072288513, 0.9898999929428101] \n",
      "validation Accuracy [0.6291999816894531, 0.730400025844574, 0.7450000047683716, 0.7638000249862671, 0.8019999861717224, 0.7973999977111816, 0.8073999881744385, 0.7919999957084656, 0.8105999827384949, 0.8187999725341797, 0.8059999942779541, 0.8212000131607056, 0.8252000212669373, 0.8118000030517578, 0.8119999766349792, 0.8149999976158142, 0.8271999955177307, 0.8312000036239624, 0.8191999793052673, 0.8330000042915344]\n"
     ]
    },
    {
     "data": {
      "image/png": "[encoded data removed]",
      "text/plain": [
       "<Figure size 432x288 with 1 Axes>"
      ]
     },
     "metadata": {},
     "output_type": "display_data"
    },
    {
     "data": {
      "image/png": "[encoded data removed]",
      "text/plain": [
       "<Figure size 432x288 with 1 Axes>"
      ]
     },
     "metadata": {},
     "output_type": "display_data"
    }
   ],
   "source": [
    "start_time = time.time()\n",
    "\n",
    "train_model = train_vgg_model_selu()\n",
    "history = train_model.fit(X_train_norm, y_train , epochs=20, batch_size=100 , validation_data=(X_valid_norm, y_valid), verbose=0)\n",
    "\n",
    "elapsed = (time.time() - start_time)/60\n",
    "print(f'Total Training Time: {elapsed:.2f} min')\n",
    "\n",
    "# evaluate model\n",
    "scores = train_model.evaluate(X_test_norm, y_test, verbose=0)\n",
    "print('\\nTest result: %.3f loss: %.3f'  % (scores[1]*100,scores[0]))\n",
    "\n",
    "print('Traing loss', history.history['loss'],'\\nvalidation Loss', history.history['val_loss'])\n",
    "print('Traing accuracy', history.history['accuracy'], '\\nvalidation Accuracy', history.history['val_accuracy'])\n",
    "\n",
    "\n",
    "# learning curves\n",
    "plot_learning_curves(history)"
   ]
  },
  {
   "cell_type": "markdown",
   "id": "intelligent-charles",
   "metadata": {
    "id": "intelligent-charles"
   },
   "source": [
    "# variant 1 with SWISH"
   ]
  },
  {
   "cell_type": "markdown",
   "id": "sYrckClLnc00",
   "metadata": {
    "id": "sYrckClLnc00"
   },
   "source": []
  },
  {
   "cell_type": "code",
   "execution_count": 12,
   "id": "fantastic-electric",
   "metadata": {
    "id": "fantastic-electric"
   },
   "outputs": [],
   "source": [
    "def train_vgg_model_swish():\n",
    "    \n",
    "    model = Sequential()\n",
    "    \n",
    "    #conv block1\n",
    "    model.add(Conv2D(64, (3, 3), activation='swish', padding='same', input_shape=(32, 32, 3)))\n",
    "    model.add(BatchNormalization())\n",
    "    model.add(Conv2D(64, (3, 3), activation='swish',  padding='same'))\n",
    "    model.add(BatchNormalization())\n",
    "    model.add(MaxPooling2D((2, 2)))\n",
    "    \n",
    "    #conv block2\n",
    "    model.add(Conv2D(128, (3, 3), activation='swish',  padding='same'))\n",
    "    model.add(BatchNormalization())\n",
    "    model.add(Conv2D(128, (3, 3), activation='swish',  padding='same'))\n",
    "    model.add(BatchNormalization())\n",
    "    model.add(MaxPooling2D((2, 2)))\n",
    "    \n",
    "    #conv block3\n",
    "    model.add(Conv2D(256, (3, 3), activation='swish',  padding='same'))\n",
    "    model.add(BatchNormalization())\n",
    "    model.add(Conv2D(256, (3, 3), activation='swish',  padding='same'))\n",
    "    model.add(BatchNormalization())\n",
    "    model.add(MaxPooling2D((2, 2)))\n",
    "    \n",
    "    #Fully connected layers\n",
    "    model.add(Flatten())\n",
    "    model.add(Dense(512, activation='swish'))\n",
    "    model.add(BatchNormalization())\n",
    "    model.add(Dense(10, activation='softmax'))\n",
    "    \n",
    "    # compile model\n",
    "    #opt = SGD(lr=0.001, momentum=0.9)\n",
    "    opt = Adam(lr=0.001)\n",
    "    model.compile(optimizer=opt, loss='categorical_crossentropy', metrics=['accuracy'])\n",
    "    \n",
    "    print(model.summary())\n",
    "    \n",
    "    return model"
   ]
  },
  {
   "cell_type": "code",
   "execution_count": 13,
   "id": "abroad-shakespeare",
   "metadata": {
    "colab": {
     "base_uri": "https://localhost:8080/",
     "height": 1000
    },
    "id": "abroad-shakespeare",
    "outputId": "9aa0fd92-11d1-4d90-f91e-b47897b7351f"
   },
   "outputs": [
    {
     "name": "stderr",
     "output_type": "stream",
     "text": [
      "/usr/local/lib/python3.7/dist-packages/keras/optimizer_v2/optimizer_v2.py:356: UserWarning: The `lr` argument is deprecated, use `learning_rate` instead.\n",
      "  \"The `lr` argument is deprecated, use `learning_rate` instead.\")\n"
     ]
    },
    {
     "name": "stdout",
     "output_type": "stream",
     "text": [
      "Model: \"sequential_2\"\n",
      "_________________________________________________________________\n",
      "Layer (type)                 Output Shape              Param #   \n",
      "=================================================================\n",
      "conv2d_12 (Conv2D)           (None, 32, 32, 64)        1792      \n",
      "_________________________________________________________________\n",
      "batch_normalization_14 (Batc (None, 32, 32, 64)        256       \n",
      "_________________________________________________________________\n",
      "conv2d_13 (Conv2D)           (None, 32, 32, 64)        36928     \n",
      "_________________________________________________________________\n",
      "batch_normalization_15 (Batc (None, 32, 32, 64)        256       \n",
      "_________________________________________________________________\n",
      "max_pooling2d_6 (MaxPooling2 (None, 16, 16, 64)        0         \n",
      "_________________________________________________________________\n",
      "conv2d_14 (Conv2D)           (None, 16, 16, 128)       73856     \n",
      "_________________________________________________________________\n",
      "batch_normalization_16 (Batc (None, 16, 16, 128)       512       \n",
      "_________________________________________________________________\n",
      "conv2d_15 (Conv2D)           (None, 16, 16, 128)       147584    \n",
      "_________________________________________________________________\n",
      "batch_normalization_17 (Batc (None, 16, 16, 128)       512       \n",
      "_________________________________________________________________\n",
      "max_pooling2d_7 (MaxPooling2 (None, 8, 8, 128)         0         \n",
      "_________________________________________________________________\n",
      "conv2d_16 (Conv2D)           (None, 8, 8, 256)         295168    \n",
      "_________________________________________________________________\n",
      "batch_normalization_18 (Batc (None, 8, 8, 256)         1024      \n",
      "_________________________________________________________________\n",
      "conv2d_17 (Conv2D)           (None, 8, 8, 256)         590080    \n",
      "_________________________________________________________________\n",
      "batch_normalization_19 (Batc (None, 8, 8, 256)         1024      \n",
      "_________________________________________________________________\n",
      "max_pooling2d_8 (MaxPooling2 (None, 4, 4, 256)         0         \n",
      "_________________________________________________________________\n",
      "flatten_2 (Flatten)          (None, 4096)              0         \n",
      "_________________________________________________________________\n",
      "dense_4 (Dense)              (None, 512)               2097664   \n",
      "_________________________________________________________________\n",
      "batch_normalization_20 (Batc (None, 512)               2048      \n",
      "_________________________________________________________________\n",
      "dense_5 (Dense)              (None, 10)                5130      \n",
      "=================================================================\n",
      "Total params: 3,253,834\n",
      "Trainable params: 3,251,018\n",
      "Non-trainable params: 2,816\n",
      "_________________________________________________________________\n",
      "None\n",
      "\n",
      "Test result: 83.420 loss: 0.870\n",
      "Traing loss [1.1389145851135254, 0.6453081965446472, 0.4549557864665985, 0.30631235241889954, 0.19278857111930847, 0.1371210366487503, 0.09000061452388763, 0.071586012840271, 0.07561122626066208, 0.058094803243875504, 0.0608975812792778, 0.05122535675764084, 0.046160776168107986, 0.039255570620298386, 0.04236802086234093, 0.046296846121549606, 0.0326828733086586, 0.03229705989360809, 0.03138568252325058, 0.03459640592336655] \n",
      "validation Loss [1.290689468383789, 0.7657709717750549, 0.5836566686630249, 0.5723750591278076, 0.628701388835907, 0.6957520246505737, 0.6893094778060913, 0.8650814294815063, 0.8140909671783447, 0.761897087097168, 0.8191400170326233, 0.904755175113678, 0.824735164642334, 0.9787443280220032, 0.8776553869247437, 0.8927685618400574, 0.8731251955032349, 0.8765733242034912, 0.9423354268074036, 0.8253479599952698]\n",
      "Traing accuracy [0.6040400266647339, 0.7769399881362915, 0.8421199917793274, 0.8932999968528748, 0.9333999752998352, 0.9518399834632874, 0.968940019607544, 0.9753999710083008, 0.9738799929618835, 0.9805399775505066, 0.9779199957847595, 0.9821000099182129, 0.983780026435852, 0.9865800142288208, 0.9854599833488464, 0.9844200015068054, 0.9890999794006348, 0.9887400269508362, 0.9893199801445007, 0.988099992275238] \n",
      "validation Accuracy [0.5722000002861023, 0.746399998664856, 0.8094000220298767, 0.8082000017166138, 0.8137999773025513, 0.7990000247955322, 0.824400007724762, 0.7972000241279602, 0.8090000152587891, 0.8245999813079834, 0.8136000037193298, 0.8112000226974487, 0.8248000144958496, 0.7960000038146973, 0.8173999786376953, 0.8145999908447266, 0.8222000002861023, 0.8227999806404114, 0.8256000280380249, 0.8312000036239624]\n"
     ]
    },
    {
     "data": {
      "image/png": "[encoded data removed]",
      "text/plain": [
       "<Figure size 432x288 with 1 Axes>"
      ]
     },
     "metadata": {
      "needs_background": "light"
     },
     "output_type": "display_data"
    },
    {
     "data": {
      "image/png": "[encoded data removed]",
      "text/plain": [
       "<Figure size 432x288 with 1 Axes>"
      ]
     },
     "metadata": {
      "needs_background": "light"
     },
     "output_type": "display_data"
    }
   ],
   "source": [
    "start_time = time.time()\n",
    "\n",
    "train_model = train_vgg_model_swish()\n",
    "history = train_model.fit(X_train_norm, y_train , epochs=20, batch_size=100 , validation_data=(X_valid_norm, y_valid), verbose=0)\n",
    "\n",
    "elapsed = (time.time() - start_time)/60\n",
    "print(f'Total Training Time: {elapsed:.2f} min')\n",
    "\n",
    "# evaluate model\n",
    "scores = train_model.evaluate(X_test_norm, y_test, verbose=0)\n",
    "print('\\nTest result: %.3f loss: %.3f'  % (scores[1]*100,scores[0]))\n",
    "\n",
    "print('Traing loss', history.history['loss'],'\\nvalidation Loss', history.history['val_loss'])\n",
    "print('Traing accuracy', history.history['accuracy'], '\\nvalidation Accuracy', history.history['val_accuracy'])\n",
    "\n",
    "\n",
    "# learning curves\n",
    "plot_learning_curves(history)"
   ]
  }
 ],
 "metadata": {
  "accelerator": "GPU",
  "colab": {
   "name": "Data255_HW2_RamyaSree_Variant1_MiniVGG.ipynb",
   "provenance": []
  },
  "kernelspec": {
   "display_name": "Python 3",
   "language": "python",
   "name": "python3"
  },
  "language_info": {
   "codemirror_mode": {
    "name": "ipython",
    "version": 3
   },
   "file_extension": ".py",
   "mimetype": "text/x-python",
   "name": "python",
   "nbconvert_exporter": "python",
   "pygments_lexer": "ipython3",
   "version": "3.9.1"
  }
 },
 "nbformat": 4,
 "nbformat_minor": 5
}
