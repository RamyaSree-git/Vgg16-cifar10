{
  "nbformat": 4,
  "nbformat_minor": 5,
  "metadata": {
    "kernelspec": {
      "display_name": "Python 3",
      "language": "python",
      "name": "python3"
    },
    "language_info": {
      "codemirror_mode": {
        "name": "ipython",
        "version": 3
      },
      "file_extension": ".py",
      "mimetype": "text/x-python",
      "name": "python",
      "nbconvert_exporter": "python",
      "pygments_lexer": "ipython3",
      "version": "3.9.1"
    },
    "colab": {
      "name": "Data255_HW2_RamyaSree_MiniVGG.ipynb",
      "provenance": []
    },
    "accelerator": "GPU"
  },
  "cells": [
    {
      "cell_type": "code",
      "metadata": {
        "id": "green-beaver"
      },
      "source": [
        "import sys\n",
        "import matplotlib.pyplot as plt\n",
        "import numpy as np\n",
        "from keras.datasets import cifar10\n",
        "from tensorflow.keras.models import Sequential\n",
        "from tensorflow.keras.layers import Conv2D, MaxPooling2D,Dropout, GlobalAveragePooling2D\n",
        "from tensorflow.keras.layers import Dense, Activation, Flatten, BatchNormalization\n",
        "from tensorflow.keras.utils import to_categorical\n",
        "from tensorflow.keras import optimizers\n",
        "from tensorflow.keras.optimizers import SGD, Adam\n",
        "from tensorflow.keras import regularizers\n",
        "from sklearn.model_selection import train_test_split\n",
        "import time\n"
      ],
      "id": "green-beaver",
      "execution_count": 1,
      "outputs": []
    },
    {
      "cell_type": "code",
      "metadata": {
        "id": "central-international"
      },
      "source": [
        "##b Time, parameters (model.summary())"
      ],
      "id": "central-international",
      "execution_count": 2,
      "outputs": []
    },
    {
      "cell_type": "code",
      "metadata": {
        "id": "international-stupid"
      },
      "source": [
        "# using unverfied ssl\n",
        "import ssl\n",
        "ssl._create_default_https_context = ssl._create_unverified_context"
      ],
      "id": "international-stupid",
      "execution_count": 3,
      "outputs": []
    },
    {
      "cell_type": "code",
      "metadata": {
        "colab": {
          "base_uri": "https://localhost:8080/"
        },
        "id": "agricultural-bernard",
        "outputId": "61807676-778f-442c-c376-e3a9b0a8955d"
      },
      "source": [
        "# load train and test data\n",
        "(X_train, Y_train), (X_test, Y_test) = cifar10.load_data()\n",
        "\n",
        "X = np.concatenate((X_train,X_test))\n",
        "y = np.concatenate((Y_train,Y_test))\n",
        "\n",
        "\n",
        "\n",
        "X_train, X_test, y_train, y_test = train_test_split(X, y, test_size=10000, random_state=1234)\n",
        "X_valid, X_test, y_valid, y_test = train_test_split(X_test,y_test, test_size=0.5)\n",
        "\n",
        "print('X_train, y_train :', X_train.shape, y_train.shape)\n",
        "print('X_valid, y_valid:', X_valid.shape, y_valid.shape)\n",
        "print('X_test, y_test:', X_valid.shape, y_valid.shape)"
      ],
      "id": "agricultural-bernard",
      "execution_count": 4,
      "outputs": [
        {
          "output_type": "stream",
          "name": "stdout",
          "text": [
            "Downloading data from https://www.cs.toronto.edu/~kriz/cifar-10-python.tar.gz\n",
            "170500096/170498071 [==============================] - 6s 0us/step\n",
            "170508288/170498071 [==============================] - 6s 0us/step\n",
            "X_train, y_train : (50000, 32, 32, 3) (50000, 1)\n",
            "X_valid, y_valid: (5000, 32, 32, 3) (5000, 1)\n",
            "X_test, y_test: (5000, 32, 32, 3) (5000, 1)\n"
          ]
        }
      ]
    },
    {
      "cell_type": "code",
      "metadata": {
        "id": "illegal-disposition"
      },
      "source": [
        "# Encoding the class values to 10 value binary vector\n",
        "y_train = to_categorical(y_train)\n",
        "y_test = to_categorical(y_test)\n",
        "y_valid = to_categorical(y_valid)\n",
        "\n",
        "# Converting the train values to float \n",
        "X_train_norm = X_train.astype('float32')\n",
        "X_valid_norm = X_valid.astype('float32')\n",
        "X_test_norm = X_test.astype('float32')\n",
        "# normalize the images with mean 0 and standard deviation of 1\n",
        "X_train_norm = X_train_norm / 255.0\n",
        "X_valid_norm = X_valid_norm / 255.0\n",
        "X_test_norm = X_test_norm / 255.0"
      ],
      "id": "illegal-disposition",
      "execution_count": 5,
      "outputs": []
    },
    {
      "cell_type": "code",
      "metadata": {
        "id": "periodic-region"
      },
      "source": [
        "def train_vgg_model():\n",
        "    model = Sequential()\n",
        "    \n",
        "    #conv block1\n",
        "    model.add(Conv2D(64, (3, 3), activation='relu',  padding='same', input_shape=(32, 32, 3)))\n",
        "    model.add(BatchNormalization())\n",
        "    model.add(Conv2D(64, (3, 3), activation='relu', padding='same'))\n",
        "    model.add(BatchNormalization())\n",
        "    model.add(MaxPooling2D((2, 2)))\n",
        "    \n",
        "    #conv block2\n",
        "    model.add(Conv2D(128, (3, 3), activation='relu',  padding='same'))\n",
        "    model.add(BatchNormalization())\n",
        "    model.add(Conv2D(128, (3, 3), activation='relu',  padding='same'))\n",
        "    model.add(BatchNormalization())\n",
        "    model.add(MaxPooling2D((2, 2)))\n",
        "    \n",
        "    #conv block3\n",
        "    model.add(Conv2D(256, (3, 3), activation='relu',  padding='same'))\n",
        "    model.add(BatchNormalization())\n",
        "    model.add(Conv2D(256, (3, 3), activation='relu',  padding='same'))\n",
        "    model.add(BatchNormalization())\n",
        "    model.add(MaxPooling2D((2, 2)))\n",
        "    \n",
        "    #Fully connected layers\n",
        "    model.add(Flatten())\n",
        "    model.add(Dense(512, activation='relu'))\n",
        "    model.add(BatchNormalization())\n",
        "    model.add(Dense(10, activation='softmax'))\n",
        "    \n",
        "    # compile model\n",
        "    #opt = SGD(lr=0.001, momentum=0.9)\n",
        "    opt = Adam(lr=0.001)\n",
        "    model.compile(optimizer=opt, loss='categorical_crossentropy', metrics=['accuracy'])\n",
        "    \n",
        "    print(model.summary())\n",
        "    \n",
        "    return model"
      ],
      "id": "periodic-region",
      "execution_count": 10,
      "outputs": []
    },
    {
      "cell_type": "code",
      "metadata": {
        "id": "loaded-development"
      },
      "source": [
        "def plot_learning_curves(history):\n",
        "    # plot loss\n",
        "    plt.subplot(211)\n",
        "    plt.title('Minibatch Loss')\n",
        "    plt.plot(history.history['loss'], color='blue', label='train')\n",
        "    plt.plot(history.history['val_loss'], color='green', label='Validation')\n",
        "    plt.xlabel('Epoch')\n",
        "    plt.ylabel('Loss')\n",
        "    plt.legend()\n",
        "    plt.show()\n",
        "    \n",
        "    # plot accuracy\n",
        "    plt.subplot(212)\n",
        "    plt.title('Classification Accuracy')\n",
        "    plt.plot(history.history['accuracy'], color='blue', label='train')\n",
        "    plt.plot(history.history['val_accuracy'], color='green', label='validation')\n",
        "    plt.xlabel('Epoch')\n",
        "    plt.ylabel('Accuracy')\n",
        "    plt.legend()\n",
        "    plt.show()"
      ],
      "id": "loaded-development",
      "execution_count": 11,
      "outputs": []
    },
    {
      "cell_type": "code",
      "metadata": {
        "colab": {
          "base_uri": "https://localhost:8080/",
          "height": 1000
        },
        "id": "aware-venezuela",
        "outputId": "b8ad584d-b99a-4c1d-bcdd-f552dfa97fee"
      },
      "source": [
        "start_time = time.time()\n",
        "\n",
        "train_model = train_vgg_model()\n",
        "history = train_model.fit(X_train_norm, y_train , epochs=20, batch_size=100 , validation_data=(X_valid_norm, y_valid), verbose=0)\n",
        "\n",
        "elapsed = (time.time() - start_time)/60\n",
        "print(f'Total Training Time: {elapsed:.2f} min')\n",
        "\n",
        "# evaluate model\n",
        "scores = train_model.evaluate(X_test_norm, y_test, verbose=0)\n",
        "print('\\nTest result: %.3f Test loss: %.3f'  % (scores[1]*100,scores[0]))\n",
        "\n",
        "print('Traing loss', history.history['loss'],'\\nvalidation Loss', history.history['val_loss'])\n",
        "print('Traing accuracy', history.history['accuracy'], '\\nvalidation Accuracy', history.history['val_accuracy'])\n",
        "\n",
        "\n",
        "# learning curves\n",
        "plot_learning_curves(history)"
      ],
      "id": "aware-venezuela",
      "execution_count": 12,
      "outputs": [
        {
          "output_type": "stream",
          "name": "stderr",
          "text": [
            "/usr/local/lib/python3.7/dist-packages/keras/optimizer_v2/optimizer_v2.py:356: UserWarning: The `lr` argument is deprecated, use `learning_rate` instead.\n",
            "  \"The `lr` argument is deprecated, use `learning_rate` instead.\")\n"
          ]
        },
        {
          "output_type": "stream",
          "name": "stdout",
          "text": [
            "Model: \"sequential_2\"\n",
            "_________________________________________________________________\n",
            "Layer (type)                 Output Shape              Param #   \n",
            "=================================================================\n",
            "conv2d_12 (Conv2D)           (None, 32, 32, 64)        1792      \n",
            "_________________________________________________________________\n",
            "batch_normalization_14 (Batc (None, 32, 32, 64)        256       \n",
            "_________________________________________________________________\n",
            "conv2d_13 (Conv2D)           (None, 32, 32, 64)        36928     \n",
            "_________________________________________________________________\n",
            "batch_normalization_15 (Batc (None, 32, 32, 64)        256       \n",
            "_________________________________________________________________\n",
            "max_pooling2d_6 (MaxPooling2 (None, 16, 16, 64)        0         \n",
            "_________________________________________________________________\n",
            "conv2d_14 (Conv2D)           (None, 16, 16, 128)       73856     \n",
            "_________________________________________________________________\n",
            "batch_normalization_16 (Batc (None, 16, 16, 128)       512       \n",
            "_________________________________________________________________\n",
            "conv2d_15 (Conv2D)           (None, 16, 16, 128)       147584    \n",
            "_________________________________________________________________\n",
            "batch_normalization_17 (Batc (None, 16, 16, 128)       512       \n",
            "_________________________________________________________________\n",
            "max_pooling2d_7 (MaxPooling2 (None, 8, 8, 128)         0         \n",
            "_________________________________________________________________\n",
            "conv2d_16 (Conv2D)           (None, 8, 8, 256)         295168    \n",
            "_________________________________________________________________\n",
            "batch_normalization_18 (Batc (None, 8, 8, 256)         1024      \n",
            "_________________________________________________________________\n",
            "conv2d_17 (Conv2D)           (None, 8, 8, 256)         590080    \n",
            "_________________________________________________________________\n",
            "batch_normalization_19 (Batc (None, 8, 8, 256)         1024      \n",
            "_________________________________________________________________\n",
            "max_pooling2d_8 (MaxPooling2 (None, 4, 4, 256)         0         \n",
            "_________________________________________________________________\n",
            "flatten_2 (Flatten)          (None, 4096)              0         \n",
            "_________________________________________________________________\n",
            "dense_4 (Dense)              (None, 512)               2097664   \n",
            "_________________________________________________________________\n",
            "batch_normalization_20 (Batc (None, 512)               2048      \n",
            "_________________________________________________________________\n",
            "dense_5 (Dense)              (None, 10)                5130      \n",
            "=================================================================\n",
            "Total params: 3,253,834\n",
            "Trainable params: 3,251,018\n",
            "Non-trainable params: 2,816\n",
            "_________________________________________________________________\n",
            "None\n",
            "Total Training Time: 9.41 min\n",
            "\n",
            "Test result: 81.380 Test loss: 0.915\n",
            "Traing loss [1.1860634088516235, 0.6944177150726318, 0.503960371017456, 0.36964109539985657, 0.26008284091949463, 0.16625384986400604, 0.11312533915042877, 0.10973738133907318, 0.06878268718719482, 0.06550410389900208, 0.059996817260980606, 0.057330597192049026, 0.04562420770525932, 0.06170012801885605, 0.04133908078074455, 0.0328172892332077, 0.04462636262178421, 0.03775491565465927, 0.029111938551068306, 0.04449285566806793] \n",
            "validation Loss [1.5317683219909668, 1.0126399993896484, 0.6768523454666138, 0.7426549196243286, 0.6830321550369263, 0.6281381249427795, 0.8176827430725098, 0.7498775124549866, 0.7913541197776794, 0.898914635181427, 0.735144853591919, 0.974294900894165, 1.1438411474227905, 0.9465538263320923, 0.8545083999633789, 0.9618357419967651, 0.9077202081680298, 0.9350535273551941, 0.936758279800415, 1.0095082521438599]\n",
            "Traing accuracy [0.5863199830055237, 0.7592800259590149, 0.8247399926185608, 0.8729000091552734, 0.9093000292778015, 0.9430000185966492, 0.960860013961792, 0.9610400199890137, 0.9767400026321411, 0.9772599935531616, 0.9788399934768677, 0.9800199866294861, 0.9840999841690063, 0.9776999950408936, 0.9858800172805786, 0.9889199733734131, 0.9846600294113159, 0.9866399765014648, 0.9900400042533875, 0.9850599765777588] \n",
            "validation Accuracy [0.4918000102043152, 0.6782000064849854, 0.7680000066757202, 0.7684000134468079, 0.7996000051498413, 0.8181999921798706, 0.7922000288963318, 0.8094000220298767, 0.8113999962806702, 0.8023999929428101, 0.8271999955177307, 0.7829999923706055, 0.7495999932289124, 0.8073999881744385, 0.8235999941825867, 0.8141999840736389, 0.8112000226974487, 0.807200014591217, 0.8104000091552734, 0.7964000105857849]\n"
          ]
        },
        {
          "output_type": "display_data",
          "data": {
            "image/png": "[encoded data removed]",
            "text/plain": [
              "<Figure size 432x288 with 1 Axes>"
            ]
          },
          "metadata": {
            "needs_background": "light"
          }
        },
        {
          "output_type": "display_data",
          "data": {
            "image/png": "[encoded data removed]",
            "text/plain": [
              "<Figure size 432x288 with 1 Axes>"
            ]
          },
          "metadata": {
            "needs_background": "light"
          }
        }
      ]
    },
    {
      "cell_type": "code",
      "metadata": {
        "id": "aPnDH-m9dMXi"
      },
      "source": [
        ""
      ],
      "id": "aPnDH-m9dMXi",
      "execution_count": null,
      "outputs": []
    }
  ]
}